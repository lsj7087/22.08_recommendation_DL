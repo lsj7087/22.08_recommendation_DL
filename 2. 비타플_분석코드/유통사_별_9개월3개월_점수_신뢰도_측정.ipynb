{
 "cells": [
  {
   "cell_type": "code",
   "execution_count": 1,
   "metadata": {},
   "outputs": [],
   "source": [
    "import pandas as pd\n",
    "import numpy as np\n",
    "import datetime\n",
    "\n",
    "import matplotlib.pyplot as plt\n",
    "import seaborn as sns"
   ]
  },
  {
   "cell_type": "code",
   "execution_count": 2,
   "metadata": {},
   "outputs": [],
   "source": [
    "def check_3mon(aa):\n",
    "    A0  = pd.read_csv(aa+\".csv\",encoding=\"utf-8-sig\")\n",
    "    \n",
    "    A0[\"de_dt\"] = pd.to_datetime(A0[\"de_dt\"].astype(int).astype(str))\n",
    "\n",
    "    A0_test = A0[A0[\"de_dt\"] >= \"2021-10-01\"]\n",
    "    A0 = A0[A0[\"de_dt\"] < \"2021-10-01\"]\n",
    "\n",
    "\n",
    "    #raitings : 고객 별 상품 구매 횟수 count (대분류는 덤으로!)\n",
    "    A0_tmp = A0.value_counts(['cust','pd_c',\"de_dt\",\"clac_mcls_nm\",\"clac_hlv_nm\"]).reset_index().rename(columns={0:\"buy_am\"})\n",
    "    ratings=A0_tmp.groupby(['cust','pd_c',\"clac_mcls_nm\",\"clac_hlv_nm\"],as_index=False).count()[['cust','pd_c',\"clac_mcls_nm\",\"clac_hlv_nm\",'buy_am']]\n",
    "\n",
    "    #고객 별 상품 대분류 별 구매 횟수\n",
    "    tmp = A0_tmp.groupby(['cust','clac_hlv_nm'],as_index=False).count()[['cust','clac_hlv_nm','buy_am']]\n",
    "\n",
    "    #고객 별 구매 횟수\n",
    "    tmp_ref = A0_tmp.groupby(\"cust\",as_index=False).sum()[[\"cust\",\"buy_am\"]].rename(columns={\"buy_am\":\"buy_sum\"})\n",
    "\n",
    "    #참조1 : 고객 별 대분류 구매 비율 생성\n",
    "\n",
    "    ref1 = pd.merge(tmp,tmp_ref, how='left',on='cust')\n",
    "    ref1[\"buy_score_ref\"] = ref1[\"buy_am\"]/ref1[\"buy_sum\"]\n",
    "    ref1 = ref1.drop([\"buy_am\",\"buy_sum\"],axis=1)\n",
    "\n",
    "    #참조2 : 고객 별 상품 별 마지막 구매 날짜\n",
    "    score_update=A0_tmp.value_counts(['cust','pd_c','de_dt']).reset_index()[['cust','pd_c','de_dt']]\n",
    "    ref2 = score_update.groupby([\"cust\",\"pd_c\"],as_index=False).max(\"de_dt\").rename(columns={\"de_dt\":\"last_dt\"})\n",
    "\n",
    "    #참조3 : 상품 별 고객 마다의 구매 간격들 평균 \n",
    "\n",
    "    tmp = A0_tmp.value_counts(['cust','pd_c','de_dt'])\n",
    "    date_file = tmp.reset_index()[['cust','pd_c','de_dt']]\n",
    "\n",
    "    qq = date_file.value_counts([\"cust\",\"pd_c\"])[date_file.value_counts([\"cust\",\"pd_c\"]) > 1].reset_index()[['cust','pd_c']]\n",
    "    qq\n",
    "\n",
    "    range_lst = []\n",
    "    for n in range(len(qq)):\n",
    "        i = qq.loc[n,\"cust\"]\n",
    "        j = qq.loc[n,\"pd_c\"]\n",
    "        tmp = date_file[(date_file[\"pd_c\"] == j)&(date_file[\"cust\"] == i)].sort_values(\"de_dt\")\n",
    "        for k in range(len(tmp)-1):\n",
    "            range_lst.append({\"pd_c\":j,\"range_mean\":(tmp.iloc[k+1,2] - tmp.iloc[k,2]).days})\n",
    "    range_lst = pd.DataFrame(range_lst)\n",
    "\n",
    "    ref3 = range_lst.groupby(\"pd_c\",as_index=False).mean(\"range_mean\")[[\"pd_c\",\"range_mean\"]]\n",
    "\n",
    "    #합쳐주기!\n",
    "    ratings = pd.merge(ratings,ref1, how='left',on=['cust',\"clac_hlv_nm\"])\n",
    "    ratings = pd.merge(ratings,ref2, how='left',on=['cust',\"pd_c\"])\n",
    "    ratings = pd.merge(ratings,ref3, how='left',on='pd_c')\n",
    "    ratings = ratings.fillna(0)\n",
    "\n",
    "\n",
    "    #구매 횟수 0~5점\n",
    "    ratings['buy_level']=np.where(ratings.buy_am>=24,5,\n",
    "                           np.where(ratings.buy_am>=12,4,\n",
    "                                   np.where(ratings.buy_am>=6,3,\n",
    "                                           np.where(ratings.buy_am>=4,2,\n",
    "                                                   np.where(ratings.buy_am>=3,1,0)))))\n",
    "\n",
    "    ratings['buy_level']=ratings['buy_level'].astype('float')\n",
    "\n",
    "    #대분류 0~5점\n",
    "\n",
    "    low_clac_lst = A0_tmp.value_counts([\"cust\",\"clac_hlv_nm\"]).reset_index().rename(columns={0:\"count\"}).groupby(\"clac_hlv_nm\",as_index=False).mean(\"count\")[[\"clac_hlv_nm\",\"count\"]]\n",
    "\n",
    "    low_clac_lst[\"low_clac\"] = np.where(low_clac_lst[\"count\"] >= low_clac_lst[\"count\"].quantile(q=15/21),5,\n",
    "                           np.where(low_clac_lst[\"count\"]>=low_clac_lst[\"count\"].quantile(q=10/21),4,\n",
    "                                   np.where(low_clac_lst[\"count\"]>=low_clac_lst[\"count\"].quantile(q=6/21),3,\n",
    "                                           np.where(low_clac_lst[\"count\"]>=low_clac_lst[\"count\"].quantile(q=3/21),2,\n",
    "                                                   np.where(low_clac_lst[\"count\"]>=low_clac_lst[\"count\"].quantile(q=1/21),1,0)))))\n",
    "\n",
    "\n",
    "    ratings = pd.merge(ratings, low_clac_lst.drop(\"count\",axis=1), how='left',on = 'clac_hlv_nm')\n",
    "\n",
    "    #(구매 간격 / 평균 구매 간격)의 quantile 별 점수\n",
    "\n",
    "    ##range_mean이 0인 애들의 대체값, 같은 대분류들 중 최대 구매간격\n",
    "    tmp_value = ratings[ratings[\"range_mean\"] == 0].value_counts(\"clac_hlv_nm\").reset_index().drop(0,axis=1)\n",
    "    tmp_m = []\n",
    "    for i in tmp_value[\"clac_hlv_nm\"]:\n",
    "        tmp_m.append(ratings[(ratings[\"clac_hlv_nm\"] == i) & (ratings[\"range_mean\"] != 0)][\"range_mean\"].max())\n",
    "    tmp_value[\"tmp_m\"] = tmp_m\n",
    "\n",
    "    ratings = pd.merge(ratings, tmp_value, how='left',on=\"clac_hlv_nm\")\n",
    "    ratings.loc[ratings[\"range_mean\"] != 0,\"tmp_m\"] = 0\n",
    "    ratings[\"tmp_m\"] = ratings[\"tmp_m\"].fillna(ratings[\"range_mean\"].max())\n",
    "\n",
    "    today = pd.datetime(year = 2022, month = 1, day = 1)\n",
    "    ratings[\"range_result\"] = (today - ratings[\"last_dt\"]).dt.days / (ratings[\"range_mean\"] + ratings[\"tmp_m\"])\n",
    "\n",
    "\n",
    "    ratings[\"range_score\"] = np.where(ratings[\"range_result\"] >= ratings[\"range_result\"].quantile(q=15/21),5,\n",
    "                           np.where(ratings[\"range_result\"]>=ratings[\"range_result\"].quantile(q=10/21),4,\n",
    "                                   np.where(ratings[\"range_result\"]>=ratings[\"range_result\"].quantile(q=6/21),3,\n",
    "                                           np.where(ratings[\"range_result\"]>=ratings[\"range_result\"].quantile(q=3/21),2,\n",
    "                                                   np.where(ratings[\"range_result\"]>=ratings[\"range_result\"].quantile(q=1/21),1,0)))))\n",
    "    \n",
    "    \n",
    "    ratings[\"score\"] = (ratings[\"buy_level\"]*2 + ratings[\"low_clac\"] + ratings[\"range_score\"])/4\n",
    "    \n",
    "    \n",
    "\n",
    "    A0_test_tmp = A0_test.value_counts(['cust','pd_c',\"de_dt\",\"clac_mcls_nm\",\"clac_hlv_nm\"]).reset_index().rename(columns={0:\"buy_am\"})\n",
    "    A0_test2 = A0_test_tmp.groupby([\"cust\",\"pd_c\"],as_index=False).sum()[[\"cust\",\"pd_c\"]]\n",
    "    A0_test2[\"aft_buy\"] = 1\n",
    "\n",
    "\n",
    "    rrr = pd.merge(ratings,A0_test2,how=\"left\",on=[\"cust\",\"pd_c\"]).fillna(0)\n",
    "    \n",
    "    print(\"상위10% 점수의 10~12월 구매 비율\")\n",
    "    print(rrr.loc[rrr[\"score\"] >= rrr[\"score\"].quantile(0.9),\"aft_buy\"].mean())\n",
    "    print(\"\\n\")\n",
    "    \n",
    "    for i in np.arange(0,5,0.5):\n",
    "        print(f\"{i}보다 큰 값들의 10~12월 구매 비율\")\n",
    "        print(rrr[rrr['score']>=i][\"aft_buy\"].mean(),\"\\n\")\n",
    "        \n",
    "    return 0"
   ]
  },
  {
   "cell_type": "markdown",
   "metadata": {},
   "source": [
    "# A01"
   ]
  },
  {
   "cell_type": "code",
   "execution_count": 3,
   "metadata": {},
   "outputs": [
    {
     "name": "stderr",
     "output_type": "stream",
     "text": [
      "<ipython-input-2-a66e3072b375>:91: FutureWarning: The pandas.datetime class is deprecated and will be removed from pandas in a future version. Import from datetime module instead.\n",
      "  today = pd.datetime(year = 2022, month = 1, day = 1)\n"
     ]
    },
    {
     "name": "stdout",
     "output_type": "stream",
     "text": [
      "상위10% 점수의 10~12월 구매 비율\n",
      "0.22533439557214138\n",
      "\n",
      "\n",
      "0.0보다 큰 값들의 10~12월 구매 비율\n",
      "0.16428816613747532 \n",
      "\n",
      "0.5보다 큰 값들의 10~12월 구매 비율\n",
      "0.16441264315950063 \n",
      "\n",
      "1.0보다 큰 값들의 10~12월 구매 비율\n",
      "0.16498113010661056 \n",
      "\n",
      "1.5보다 큰 값들의 10~12월 구매 비율\n",
      "0.16874504263916984 \n",
      "\n",
      "2.0보다 큰 값들의 10~12월 구매 비율\n",
      "0.17687579155469063 \n",
      "\n",
      "2.5보다 큰 값들의 10~12월 구매 비율\n",
      "0.22533439557214138 \n",
      "\n",
      "3.0보다 큰 값들의 10~12월 구매 비율\n",
      "0.558177781432448 \n",
      "\n",
      "3.5보다 큰 값들의 10~12월 구매 비율\n",
      "0.6306990881458967 \n",
      "\n",
      "4.0보다 큰 값들의 10~12월 구매 비율\n",
      "0.7003424657534246 \n",
      "\n",
      "4.5보다 큰 값들의 10~12월 구매 비율\n",
      "0.7326732673267327 \n",
      "\n"
     ]
    },
    {
     "data": {
      "text/plain": [
       "0"
      ]
     },
     "execution_count": 3,
     "metadata": {},
     "output_type": "execute_result"
    }
   ],
   "source": [
    "check_3mon(\"A01\")"
   ]
  },
  {
   "cell_type": "markdown",
   "metadata": {},
   "source": [
    "# A02"
   ]
  },
  {
   "cell_type": "code",
   "execution_count": 4,
   "metadata": {},
   "outputs": [
    {
     "name": "stderr",
     "output_type": "stream",
     "text": [
      "<ipython-input-2-a66e3072b375>:91: FutureWarning: The pandas.datetime class is deprecated and will be removed from pandas in a future version. Import from datetime module instead.\n",
      "  today = pd.datetime(year = 2022, month = 1, day = 1)\n"
     ]
    },
    {
     "name": "stdout",
     "output_type": "stream",
     "text": [
      "상위10% 점수의 10~12월 구매 비율\n",
      "0.45768169724815677\n",
      "\n",
      "\n",
      "0.0보다 큰 값들의 10~12월 구매 비율\n",
      "0.17543482110357989 \n",
      "\n",
      "0.5보다 큰 값들의 10~12월 구매 비율\n",
      "0.17544355885033186 \n",
      "\n",
      "1.0보다 큰 값들의 10~12월 구매 비율\n",
      "0.1760338476164069 \n",
      "\n",
      "1.5보다 큰 값들의 10~12월 구매 비율\n",
      "0.1801375038678773 \n",
      "\n",
      "2.0보다 큰 값들의 10~12월 구매 비율\n",
      "0.19050498218573972 \n",
      "\n",
      "2.5보다 큰 값들의 10~12월 구매 비율\n",
      "0.24411106590724166 \n",
      "\n",
      "3.0보다 큰 값들의 10~12월 구매 비율\n",
      "0.47926885346413245 \n",
      "\n",
      "3.5보다 큰 값들의 10~12월 구매 비율\n",
      "0.5216699097824165 \n",
      "\n",
      "4.0보다 큰 값들의 10~12월 구매 비율\n",
      "0.5362537764350453 \n",
      "\n",
      "4.5보다 큰 값들의 10~12월 구매 비율\n",
      "0.5674869500372856 \n",
      "\n"
     ]
    },
    {
     "data": {
      "text/plain": [
       "0"
      ]
     },
     "execution_count": 4,
     "metadata": {},
     "output_type": "execute_result"
    }
   ],
   "source": [
    "check_3mon(\"A02\")"
   ]
  },
  {
   "cell_type": "markdown",
   "metadata": {},
   "source": [
    "# A03"
   ]
  },
  {
   "cell_type": "code",
   "execution_count": 5,
   "metadata": {},
   "outputs": [
    {
     "name": "stderr",
     "output_type": "stream",
     "text": [
      "<ipython-input-2-a66e3072b375>:91: FutureWarning: The pandas.datetime class is deprecated and will be removed from pandas in a future version. Import from datetime module instead.\n",
      "  today = pd.datetime(year = 2022, month = 1, day = 1)\n"
     ]
    },
    {
     "name": "stdout",
     "output_type": "stream",
     "text": [
      "상위10% 점수의 10~12월 구매 비율\n",
      "0.5261952131187074\n",
      "\n",
      "\n",
      "0.0보다 큰 값들의 10~12월 구매 비율\n",
      "0.20061387875187417 \n",
      "\n",
      "0.5보다 큰 값들의 10~12월 구매 비율\n",
      "0.20069057255257125 \n",
      "\n",
      "1.0보다 큰 값들의 10~12월 구매 비율\n",
      "0.20113516564260386 \n",
      "\n",
      "1.5보다 큰 값들의 10~12월 구매 비율\n",
      "0.20506982563316464 \n",
      "\n",
      "2.0보다 큰 값들의 10~12월 구매 비율\n",
      "0.21381048995528978 \n",
      "\n",
      "2.5보다 큰 값들의 10~12월 구매 비율\n",
      "0.2681514014489997 \n",
      "\n",
      "3.0보다 큰 값들의 10~12월 구매 비율\n",
      "0.5261952131187074 \n",
      "\n",
      "3.5보다 큰 값들의 10~12월 구매 비율\n",
      "0.5938071596550824 \n",
      "\n",
      "4.0보다 큰 값들의 10~12월 구매 비율\n",
      "0.6729758149316509 \n",
      "\n",
      "4.5보다 큰 값들의 10~12월 구매 비율\n",
      "0.7702564102564102 \n",
      "\n"
     ]
    },
    {
     "data": {
      "text/plain": [
       "0"
      ]
     },
     "execution_count": 5,
     "metadata": {},
     "output_type": "execute_result"
    }
   ],
   "source": [
    "check_3mon(\"A03\")"
   ]
  },
  {
   "cell_type": "markdown",
   "metadata": {},
   "source": [
    "# A04"
   ]
  },
  {
   "cell_type": "code",
   "execution_count": 6,
   "metadata": {},
   "outputs": [
    {
     "name": "stdout",
     "output_type": "stream",
     "text": [
      "상위10% 점수의 10~12월 구매 비율\n",
      "0.5012227656736328\n",
      "\n",
      "\n",
      "0.0보다 큰 값들의 10~12월 구매 비율\n",
      "0.1938904380228327 \n",
      "\n",
      "0.5보다 큰 값들의 10~12월 구매 비율\n",
      "0.19393893912673696 \n",
      "\n",
      "1.0보다 큰 값들의 10~12월 구매 비율\n",
      "0.19531358554916944 \n",
      "\n",
      "1.5보다 큰 값들의 10~12월 구매 비율\n",
      "0.1993364299933643 \n",
      "\n",
      "2.0보다 큰 값들의 10~12월 구매 비율\n",
      "0.2031679989516446 \n",
      "\n",
      "2.5보다 큰 값들의 10~12월 구매 비율\n",
      "0.2572606274188981 \n",
      "\n",
      "3.0보다 큰 값들의 10~12월 구매 비율\n",
      "0.5012227656736328 \n",
      "\n",
      "3.5보다 큰 값들의 10~12월 구매 비율\n",
      "0.5467779918646971 \n",
      "\n",
      "4.0보다 큰 값들의 10~12월 구매 비율\n",
      "0.604911906033102 \n",
      "\n",
      "4.5보다 큰 값들의 10~12월 구매 비율\n",
      "0.6262458471760798 \n",
      "\n"
     ]
    },
    {
     "name": "stderr",
     "output_type": "stream",
     "text": [
      "<ipython-input-2-a66e3072b375>:91: FutureWarning: The pandas.datetime class is deprecated and will be removed from pandas in a future version. Import from datetime module instead.\n",
      "  today = pd.datetime(year = 2022, month = 1, day = 1)\n"
     ]
    },
    {
     "data": {
      "text/plain": [
       "0"
      ]
     },
     "execution_count": 6,
     "metadata": {},
     "output_type": "execute_result"
    }
   ],
   "source": [
    "check_3mon(\"A04\")"
   ]
  },
  {
   "cell_type": "markdown",
   "metadata": {},
   "source": [
    "# A05"
   ]
  },
  {
   "cell_type": "code",
   "execution_count": 7,
   "metadata": {},
   "outputs": [
    {
     "name": "stdout",
     "output_type": "stream",
     "text": [
      "상위10% 점수의 10~12월 구매 비율\n",
      "0.01937046004842615\n",
      "\n",
      "\n",
      "0.0보다 큰 값들의 10~12월 구매 비율\n",
      "0.03140786294750714 \n",
      "\n",
      "0.5보다 큰 값들의 10~12월 구매 비율\n",
      "0.03140786294750714 \n",
      "\n",
      "1.0보다 큰 값들의 10~12월 구매 비율\n",
      "0.03148727110317106 \n",
      "\n",
      "1.5보다 큰 값들의 10~12월 구매 비율\n",
      "0.029754820280885504 \n",
      "\n",
      "2.0보다 큰 값들의 10~12월 구매 비율\n",
      "0.027666666666666666 \n",
      "\n",
      "2.5보다 큰 값들의 10~12월 구매 비율\n",
      "0.01937046004842615 \n",
      "\n",
      "3.0보다 큰 값들의 10~12월 구매 비율\n",
      "0.4 \n",
      "\n",
      "3.5보다 큰 값들의 10~12월 구매 비율\n",
      "0.375 \n",
      "\n",
      "4.0보다 큰 값들의 10~12월 구매 비율\n",
      "1.0 \n",
      "\n",
      "4.5보다 큰 값들의 10~12월 구매 비율\n",
      "nan \n",
      "\n"
     ]
    },
    {
     "name": "stderr",
     "output_type": "stream",
     "text": [
      "<ipython-input-2-a66e3072b375>:91: FutureWarning: The pandas.datetime class is deprecated and will be removed from pandas in a future version. Import from datetime module instead.\n",
      "  today = pd.datetime(year = 2022, month = 1, day = 1)\n"
     ]
    },
    {
     "data": {
      "text/plain": [
       "0"
      ]
     },
     "execution_count": 7,
     "metadata": {},
     "output_type": "execute_result"
    }
   ],
   "source": [
    "check_3mon(\"A05\")"
   ]
  },
  {
   "cell_type": "markdown",
   "metadata": {},
   "source": [
    "# A06"
   ]
  },
  {
   "cell_type": "code",
   "execution_count": 8,
   "metadata": {},
   "outputs": [
    {
     "name": "stdout",
     "output_type": "stream",
     "text": [
      "상위10% 점수의 10~12월 구매 비율\n",
      "0.04968728283530229\n",
      "\n",
      "\n",
      "0.0보다 큰 값들의 10~12월 구매 비율\n",
      "0.023969433039846215 \n",
      "\n",
      "0.5보다 큰 값들의 10~12월 구매 비율\n",
      "0.02393211289092296 \n",
      "\n",
      "1.0보다 큰 값들의 10~12월 구매 비율\n",
      "0.024507283633247643 \n",
      "\n",
      "1.5보다 큰 값들의 10~12월 구매 비율\n",
      "0.02550978958485661 \n",
      "\n",
      "2.0보다 큰 값들의 10~12월 구매 비율\n",
      "0.02772679345491467 \n",
      "\n",
      "2.5보다 큰 값들의 10~12월 구매 비율\n",
      "0.04968728283530229 \n",
      "\n",
      "3.0보다 큰 값들의 10~12월 구매 비율\n",
      "0.18411214953271027 \n",
      "\n",
      "3.5보다 큰 값들의 10~12월 구매 비율\n",
      "0.1875 \n",
      "\n",
      "4.0보다 큰 값들의 10~12월 구매 비율\n",
      "0.18407960199004975 \n",
      "\n",
      "4.5보다 큰 값들의 10~12월 구매 비율\n",
      "0.2727272727272727 \n",
      "\n"
     ]
    },
    {
     "name": "stderr",
     "output_type": "stream",
     "text": [
      "<ipython-input-2-a66e3072b375>:91: FutureWarning: The pandas.datetime class is deprecated and will be removed from pandas in a future version. Import from datetime module instead.\n",
      "  today = pd.datetime(year = 2022, month = 1, day = 1)\n"
     ]
    },
    {
     "data": {
      "text/plain": [
       "0"
      ]
     },
     "execution_count": 8,
     "metadata": {},
     "output_type": "execute_result"
    }
   ],
   "source": [
    "check_3mon(\"A06\")"
   ]
  }
 ],
 "metadata": {
  "kernelspec": {
   "display_name": "Python 3",
   "language": "python",
   "name": "python3"
  },
  "language_info": {
   "codemirror_mode": {
    "name": "ipython",
    "version": 3
   },
   "file_extension": ".py",
   "mimetype": "text/x-python",
   "name": "python",
   "nbconvert_exporter": "python",
   "pygments_lexer": "ipython3",
   "version": "3.8.8"
  }
 },
 "nbformat": 4,
 "nbformat_minor": 4
}
